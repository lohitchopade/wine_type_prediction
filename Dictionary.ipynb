{
 "cells": [
  {
   "cell_type": "code",
   "execution_count": 22,
   "id": "39692dfa",
   "metadata": {},
   "outputs": [
    {
     "data": {
      "text/plain": [
       "'17'"
      ]
     },
     "execution_count": 22,
     "metadata": {},
     "output_type": "execute_result"
    }
   ],
   "source": [
    "D1={'name': 'Jason', 'age': '17', 'gender': 'Male'}\n",
    "L1=[1,2,3,8,4,5,6,7]\n",
    "D1['age']\n"
   ]
  },
  {
   "cell_type": "code",
   "execution_count": 23,
   "id": "b2ba44f1",
   "metadata": {},
   "outputs": [
    {
     "data": {
      "text/plain": [
       "{'name': 'Jason', 'age': '17', 'gender': 'Male'}"
      ]
     },
     "execution_count": 23,
     "metadata": {},
     "output_type": "execute_result"
    }
   ],
   "source": [
    "D1= {1: {'name': 'Jason', 'age': '17', 'gender': 'Male'}, 2: {'name': 'Jessica', 'age': '30', 'gender': 'Female'}}\n",
    "D1[1]\n"
   ]
  },
  {
   "cell_type": "code",
   "execution_count": 29,
   "id": "7393fbe2",
   "metadata": {},
   "outputs": [
    {
     "data": {
      "text/plain": [
       "{'name': 'Jason', 'age': '30', 'gender': 'Female', 'n': 'Jessica'}"
      ]
     },
     "execution_count": 29,
     "metadata": {},
     "output_type": "execute_result"
    }
   ],
   "source": [
    "D2= {'name': 'Jason', 'age': '17', 'gender': 'Male'}\n",
    "D3= {'n': 'Jessica', 'age': '30', 'gender': 'Female'}\n",
    "Md={**D2,**D3}\n",
    "Md"
   ]
  }
 ],
 "metadata": {
  "kernelspec": {
   "display_name": "Python 3 (ipykernel)",
   "language": "python",
   "name": "python3"
  },
  "language_info": {
   "codemirror_mode": {
    "name": "ipython",
    "version": 3
   },
   "file_extension": ".py",
   "mimetype": "text/x-python",
   "name": "python",
   "nbconvert_exporter": "python",
   "pygments_lexer": "ipython3",
   "version": "3.10.7"
  }
 },
 "nbformat": 4,
 "nbformat_minor": 5
}
